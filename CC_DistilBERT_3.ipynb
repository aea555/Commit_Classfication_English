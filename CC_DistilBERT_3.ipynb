{
 "cells": [
  {
   "cell_type": "code",
   "execution_count": 1,
   "id": "dcb43d11-0ace-44c3-8207-8e0470335775",
   "metadata": {},
   "outputs": [
    {
     "data": {
      "text/html": [
       "<div>\n",
       "<style scoped>\n",
       "    .dataframe tbody tr th:only-of-type {\n",
       "        vertical-align: middle;\n",
       "    }\n",
       "\n",
       "    .dataframe tbody tr th {\n",
       "        vertical-align: top;\n",
       "    }\n",
       "\n",
       "    .dataframe thead th {\n",
       "        text-align: right;\n",
       "    }\n",
       "</style>\n",
       "<table border=\"1\" class=\"dataframe\">\n",
       "  <thead>\n",
       "    <tr style=\"text-align: right;\">\n",
       "      <th></th>\n",
       "      <th>repo_name</th>\n",
       "      <th>commit</th>\n",
       "      <th>message</th>\n",
       "      <th>Is_Refactor</th>\n",
       "      <th>Is_Perfective</th>\n",
       "      <th>Is_Adaptive</th>\n",
       "      <th>Is_Corrective</th>\n",
       "      <th>Justification</th>\n",
       "      <th>Comment</th>\n",
       "      <th>Certain</th>\n",
       "      <th>Sampling</th>\n",
       "      <th>Is_English</th>\n",
       "      <th>Is_Abstraction</th>\n",
       "      <th>Is_Performance</th>\n",
       "      <th>Is_Positive_Sentiment</th>\n",
       "      <th>Is_Negative_Sentiment</th>\n",
       "      <th>Is_Security</th>\n",
       "      <th>Is_Swearing</th>\n",
       "    </tr>\n",
       "  </thead>\n",
       "  <tbody>\n",
       "    <tr>\n",
       "      <th>0</th>\n",
       "      <td>pymor/dune-gdt</td>\n",
       "      <td>b0c1b7037681ded5b3409fdbb9f18902684e92d9</td>\n",
       "      <td>[pylicense] add .tpl to config bump copyright ...</td>\n",
       "      <td>False</td>\n",
       "      <td>True</td>\n",
       "      <td>False</td>\n",
       "      <td>FALSE</td>\n",
       "      <td>add, bump copyright</td>\n",
       "      <td>NaN</td>\n",
       "      <td>NaN</td>\n",
       "      <td>random_batch_18_nov_2020</td>\n",
       "      <td>NaN</td>\n",
       "      <td>NaN</td>\n",
       "      <td>NaN</td>\n",
       "      <td>NaN</td>\n",
       "      <td>NaN</td>\n",
       "      <td>NaN</td>\n",
       "      <td>NaN</td>\n",
       "    </tr>\n",
       "    <tr>\n",
       "      <th>1</th>\n",
       "      <td>wso2/carbon-analytics</td>\n",
       "      <td>ddcea4897ac24c0f71469cc5ed4846dcfe23585f</td>\n",
       "      <td>Added missing iterator\\n</td>\n",
       "      <td>False</td>\n",
       "      <td>False</td>\n",
       "      <td>False</td>\n",
       "      <td>TRUE</td>\n",
       "      <td>add missing</td>\n",
       "      <td>NaN</td>\n",
       "      <td>NaN</td>\n",
       "      <td>random_batch_18_nov_2020</td>\n",
       "      <td>NaN</td>\n",
       "      <td>NaN</td>\n",
       "      <td>NaN</td>\n",
       "      <td>NaN</td>\n",
       "      <td>NaN</td>\n",
       "      <td>NaN</td>\n",
       "      <td>NaN</td>\n",
       "    </tr>\n",
       "    <tr>\n",
       "      <th>2</th>\n",
       "      <td>root-mirror/root</td>\n",
       "      <td>e41c550e9371bc246a66df25edd02fec109d67b0</td>\n",
       "      <td>win32gdk source files.\\n\\n\\ngit-svn-id: acec3f...</td>\n",
       "      <td>False</td>\n",
       "      <td>False</td>\n",
       "      <td>False</td>\n",
       "      <td>FALSE</td>\n",
       "      <td>NaN</td>\n",
       "      <td>NaN</td>\n",
       "      <td>FALSE</td>\n",
       "      <td>random_batch_18_nov_2020</td>\n",
       "      <td>NaN</td>\n",
       "      <td>NaN</td>\n",
       "      <td>NaN</td>\n",
       "      <td>NaN</td>\n",
       "      <td>NaN</td>\n",
       "      <td>NaN</td>\n",
       "      <td>NaN</td>\n",
       "    </tr>\n",
       "    <tr>\n",
       "      <th>3</th>\n",
       "      <td>yuanming-hu/taichi</td>\n",
       "      <td>1bd17f6f1507a07b1a8896511642f72eac19843b</td>\n",
       "      <td>removed all return values of runtime initializ...</td>\n",
       "      <td>False</td>\n",
       "      <td>False</td>\n",
       "      <td>False</td>\n",
       "      <td>FALSE</td>\n",
       "      <td>removed</td>\n",
       "      <td>NaN</td>\n",
       "      <td>NaN</td>\n",
       "      <td>random_batch_18_nov_2020</td>\n",
       "      <td>NaN</td>\n",
       "      <td>NaN</td>\n",
       "      <td>NaN</td>\n",
       "      <td>NaN</td>\n",
       "      <td>NaN</td>\n",
       "      <td>NaN</td>\n",
       "      <td>NaN</td>\n",
       "    </tr>\n",
       "    <tr>\n",
       "      <th>4</th>\n",
       "      <td>otwcode/otwarchive</td>\n",
       "      <td>f96a19672775cc67940c99e5a0a3043b97a1ee29</td>\n",
       "      <td>Merge pull request #988 from tuff-ghost/issue_...</td>\n",
       "      <td>True</td>\n",
       "      <td>True</td>\n",
       "      <td>False</td>\n",
       "      <td>FALSE</td>\n",
       "      <td>rewrite</td>\n",
       "      <td>NaN</td>\n",
       "      <td>NaN</td>\n",
       "      <td>random_batch_18_nov_2020</td>\n",
       "      <td>NaN</td>\n",
       "      <td>NaN</td>\n",
       "      <td>NaN</td>\n",
       "      <td>NaN</td>\n",
       "      <td>NaN</td>\n",
       "      <td>NaN</td>\n",
       "      <td>NaN</td>\n",
       "    </tr>\n",
       "  </tbody>\n",
       "</table>\n",
       "</div>"
      ],
      "text/plain": [
       "               repo_name                                    commit  \\\n",
       "0         pymor/dune-gdt  b0c1b7037681ded5b3409fdbb9f18902684e92d9   \n",
       "1  wso2/carbon-analytics  ddcea4897ac24c0f71469cc5ed4846dcfe23585f   \n",
       "2       root-mirror/root  e41c550e9371bc246a66df25edd02fec109d67b0   \n",
       "3     yuanming-hu/taichi  1bd17f6f1507a07b1a8896511642f72eac19843b   \n",
       "4     otwcode/otwarchive  f96a19672775cc67940c99e5a0a3043b97a1ee29   \n",
       "\n",
       "                                             message Is_Refactor  \\\n",
       "0  [pylicense] add .tpl to config bump copyright ...       False   \n",
       "1                           Added missing iterator\\n       False   \n",
       "2  win32gdk source files.\\n\\n\\ngit-svn-id: acec3f...       False   \n",
       "3  removed all return values of runtime initializ...       False   \n",
       "4  Merge pull request #988 from tuff-ghost/issue_...        True   \n",
       "\n",
       "  Is_Perfective Is_Adaptive Is_Corrective        Justification Comment  \\\n",
       "0          True       False         FALSE  add, bump copyright     NaN   \n",
       "1         False       False          TRUE          add missing     NaN   \n",
       "2         False       False         FALSE                  NaN     NaN   \n",
       "3         False       False         FALSE              removed     NaN   \n",
       "4          True       False         FALSE              rewrite     NaN   \n",
       "\n",
       "  Certain                  Sampling Is_English Is_Abstraction Is_Performance  \\\n",
       "0     NaN  random_batch_18_nov_2020        NaN            NaN            NaN   \n",
       "1     NaN  random_batch_18_nov_2020        NaN            NaN            NaN   \n",
       "2   FALSE  random_batch_18_nov_2020        NaN            NaN            NaN   \n",
       "3     NaN  random_batch_18_nov_2020        NaN            NaN            NaN   \n",
       "4     NaN  random_batch_18_nov_2020        NaN            NaN            NaN   \n",
       "\n",
       "  Is_Positive_Sentiment Is_Negative_Sentiment Is_Security Is_Swearing  \n",
       "0                   NaN                   NaN         NaN         NaN  \n",
       "1                   NaN                   NaN         NaN         NaN  \n",
       "2                   NaN                   NaN         NaN         NaN  \n",
       "3                   NaN                   NaN         NaN         NaN  \n",
       "4                   NaN                   NaN         NaN         NaN  "
      ]
     },
     "execution_count": 1,
     "metadata": {},
     "output_type": "execute_result"
    }
   ],
   "source": [
    "import pandas as pd\n",
    "\n",
    "# Load dataset\n",
    "df = pd.read_csv('random_batch_18_nov_2020.csv')\n",
    "\n",
    "# Display the head\n",
    "df.head()"
   ]
  },
  {
   "cell_type": "code",
   "execution_count": 3,
   "id": "456bb37c-16cd-4546-be25-c7de73ef7664",
   "metadata": {},
   "outputs": [
    {
     "data": {
      "text/html": [
       "<div>\n",
       "<style scoped>\n",
       "    .dataframe tbody tr th:only-of-type {\n",
       "        vertical-align: middle;\n",
       "    }\n",
       "\n",
       "    .dataframe tbody tr th {\n",
       "        vertical-align: top;\n",
       "    }\n",
       "\n",
       "    .dataframe thead th {\n",
       "        text-align: right;\n",
       "    }\n",
       "</style>\n",
       "<table border=\"1\" class=\"dataframe\">\n",
       "  <thead>\n",
       "    <tr style=\"text-align: right;\">\n",
       "      <th></th>\n",
       "      <th>message</th>\n",
       "      <th>Is_Refactor</th>\n",
       "      <th>Is_Perfective</th>\n",
       "      <th>Is_Adaptive</th>\n",
       "      <th>Is_Corrective</th>\n",
       "    </tr>\n",
       "  </thead>\n",
       "  <tbody>\n",
       "    <tr>\n",
       "      <th>0</th>\n",
       "      <td>[pylicense] add .tpl to config bump copyright ...</td>\n",
       "      <td>0</td>\n",
       "      <td>1</td>\n",
       "      <td>0</td>\n",
       "      <td>0</td>\n",
       "    </tr>\n",
       "    <tr>\n",
       "      <th>1</th>\n",
       "      <td>added missing iterator\\n</td>\n",
       "      <td>0</td>\n",
       "      <td>0</td>\n",
       "      <td>0</td>\n",
       "      <td>1</td>\n",
       "    </tr>\n",
       "    <tr>\n",
       "      <th>2</th>\n",
       "      <td>win32gdk source files.\\n\\n\\ngit-svn-id: acec3f...</td>\n",
       "      <td>0</td>\n",
       "      <td>0</td>\n",
       "      <td>0</td>\n",
       "      <td>0</td>\n",
       "    </tr>\n",
       "    <tr>\n",
       "      <th>3</th>\n",
       "      <td>removed all return values of runtime initializ...</td>\n",
       "      <td>0</td>\n",
       "      <td>0</td>\n",
       "      <td>0</td>\n",
       "      <td>0</td>\n",
       "    </tr>\n",
       "    <tr>\n",
       "      <th>4</th>\n",
       "      <td>merge pull request #988 from tuff-ghost/issue_...</td>\n",
       "      <td>1</td>\n",
       "      <td>1</td>\n",
       "      <td>0</td>\n",
       "      <td>0</td>\n",
       "    </tr>\n",
       "  </tbody>\n",
       "</table>\n",
       "</div>"
      ],
      "text/plain": [
       "                                             message Is_Refactor  \\\n",
       "0  [pylicense] add .tpl to config bump copyright ...           0   \n",
       "1                           added missing iterator\\n           0   \n",
       "2  win32gdk source files.\\n\\n\\ngit-svn-id: acec3f...           0   \n",
       "3  removed all return values of runtime initializ...           0   \n",
       "4  merge pull request #988 from tuff-ghost/issue_...           1   \n",
       "\n",
       "  Is_Perfective Is_Adaptive Is_Corrective  \n",
       "0             1           0             0  \n",
       "1             0           0             1  \n",
       "2             0           0             0  \n",
       "3             0           0             0  \n",
       "4             1           0             0  "
      ]
     },
     "execution_count": 3,
     "metadata": {},
     "output_type": "execute_result"
    }
   ],
   "source": [
    "# Preprocessing\n",
    "\n",
    "# Columns to drop:\n",
    "    # repo_name and commit:\n",
    "        # Reason: They are just identifiers and don’t provide meaningful information\n",
    "    # Is_Abstraction, Is_Performance, Is_Positive_Sentiment, Is_Negative_Sentiment, Is_Security, Is_Swearing:\n",
    "        # Reason: They are secondary attributes, sparsely populated and likely not very useful\n",
    "    # Comment, Certain, Justification, Is_English, Sampling:\n",
    "        # Reason: They are not useful and most of their rows are missing \n",
    "\n",
    "# Columns to keep:\n",
    "    # message\n",
    "        # Reason: for obvious reasons\n",
    "    # Is_Refactor, Is_Perfective, Is_Adaptive, Is_Corrective:\n",
    "        # Reason: They are the primary targets\n",
    "\n",
    "label_columns = ['Is_Refactor', 'Is_Perfective', 'Is_Adaptive', 'Is_Corrective']\n",
    "\n",
    "columns_to_drop = ['repo_name', 'commit', 'Is_Abstraction', 'Is_Performance', 'Is_Positive_Sentiment', 'Is_Negative_Sentiment', 'Is_Security', 'Is_Swearing', 'Comment', 'Certain', 'Justification', 'Is_English', 'Sampling']\n",
    "\n",
    "df = df.drop(columns_to_drop, axis=1)\n",
    "df = df.dropna(axis=0, subset=['message'])\n",
    "\n",
    "# Lowercasing: Reducing redundancy in tokenized text\n",
    "df['message'] = df['message'].str.lower()\n",
    "\n",
    "# Removing duplicates.\n",
    "df = df.drop_duplicates(subset=['message'])\n",
    "\n",
    "# Convert True and False to 1 and 0, handle case differences and whitespace\n",
    "for col in label_columns:\n",
    "    df[col] = df[col].apply(lambda x: 1 if str(x).strip().lower() == 'true' \n",
    "                            else 0 if str(x).strip().lower() == 'false' \n",
    "                            else pd.NA)\n",
    "\n",
    "# Confirm\n",
    "df.head()"
   ]
  },
  {
   "cell_type": "code",
   "execution_count": 5,
   "id": "e41c0930-8908-48b5-b854-9199846ee6c0",
   "metadata": {},
   "outputs": [
    {
     "name": "stdout",
     "output_type": "stream",
     "text": [
      "Total rows: 4942\n",
      "Labeled rows: 1391\n",
      "Unlabeled rows: 3551\n"
     ]
    }
   ],
   "source": [
    "# Separating labeled and unlabeled data\n",
    "labeled_df = df.dropna(subset=label_columns, how='all')  # Get rows with at least one label\n",
    "unlabeled_df = df[df[label_columns].isna().all(axis=1)]  # Rows with no labels\n",
    "\n",
    "# Displaying the lengths of the whole dataset and also the labeled and unlabeled data.\n",
    "print(f\"Total rows: {len(df)}\")\n",
    "print(f\"Labeled rows: {len(labeled_df)}\")\n",
    "print(f\"Unlabeled rows: {len(unlabeled_df)}\")"
   ]
  },
  {
   "cell_type": "code",
   "execution_count": 7,
   "id": "e884a65d-c554-4353-9778-27c6c3e7afd4",
   "metadata": {},
   "outputs": [],
   "source": [
    "# Splitting the training and testing data\n",
    "from sklearn.model_selection import train_test_split\n",
    "\n",
    "# Split the data\n",
    "train_df, test_df = train_test_split(labeled_df, test_size=0.15, random_state=42)"
   ]
  },
  {
   "cell_type": "code",
   "execution_count": 9,
   "id": "ec1d9bdb-f48f-4f80-b745-05c23956bc72",
   "metadata": {},
   "outputs": [
    {
     "name": "stdout",
     "output_type": "stream",
     "text": [
      "Is_Refactor      3\n",
      "Is_Perfective    4\n",
      "Is_Adaptive      6\n",
      "Is_Corrective    4\n",
      "dtype: int64\n",
      "Is_Refactor      0\n",
      "Is_Perfective    0\n",
      "Is_Adaptive      0\n",
      "Is_Corrective    0\n",
      "dtype: int64\n"
     ]
    }
   ],
   "source": [
    "# Check for NaN values in the labeled data\n",
    "print(train_df[label_columns].isna().sum())\n",
    "print(test_df[label_columns].isna().sum())"
   ]
  },
  {
   "cell_type": "code",
   "execution_count": 11,
   "id": "eb02dc66-3814-46fe-89e3-a0d4b5bd3c01",
   "metadata": {},
   "outputs": [
    {
     "name": "stderr",
     "output_type": "stream",
     "text": [
      "C:\\Users\\ahmet\\AppData\\Local\\Temp\\ipykernel_1852\\226184742.py:2: FutureWarning: Downcasting object dtype arrays on .fillna, .ffill, .bfill is deprecated and will change in a future version. Call result.infer_objects(copy=False) instead. To opt-in to the future behavior, set `pd.set_option('future.no_silent_downcasting', True)`\n",
      "  train_df[label_columns] = train_df[label_columns].fillna(0).astype(int)\n",
      "C:\\Users\\ahmet\\AppData\\Local\\Temp\\ipykernel_1852\\226184742.py:3: FutureWarning: Downcasting object dtype arrays on .fillna, .ffill, .bfill is deprecated and will change in a future version. Call result.infer_objects(copy=False) instead. To opt-in to the future behavior, set `pd.set_option('future.no_silent_downcasting', True)`\n",
      "  test_df[label_columns] = test_df[label_columns].fillna(0).astype(int)\n"
     ]
    }
   ],
   "source": [
    "# Fill the NaN values with zeroes\n",
    "train_df[label_columns] = train_df[label_columns].fillna(0).astype(int)\n",
    "test_df[label_columns] = test_df[label_columns].fillna(0).astype(int)"
   ]
  },
  {
   "cell_type": "code",
   "execution_count": 13,
   "id": "fb2289f1-a7ae-448e-9b8e-16af987cd7d6",
   "metadata": {},
   "outputs": [],
   "source": [
    "# Converting the data to the expected format by SimpleTransformers\n",
    "train_df['labels'] = train_df[label_columns].values.tolist()\n",
    "train_df = train_df[['message', 'labels']]\n",
    "train_df.columns = ['text', 'labels']\n",
    "\n",
    "test_df['labels'] = test_df[label_columns].values.tolist()\n",
    "test_df = test_df[['message', 'labels']]\n",
    "test_df.columns = ['text', 'labels']"
   ]
  },
  {
   "cell_type": "code",
   "execution_count": 15,
   "id": "57ae2927-9334-4ebd-bfac-9de44881a52b",
   "metadata": {},
   "outputs": [
    {
     "name": "stdout",
     "output_type": "stream",
     "text": [
      "Balanced dataset size: 1998\n"
     ]
    }
   ],
   "source": [
    "# Class Balancing\n",
    "from sklearn.utils import resample\n",
    "\n",
    "# Combine all labels into a single dataframe for sampling\n",
    "majority = train_df[train_df['labels'].apply(sum) <= 1]  \n",
    "minority = train_df[train_df['labels'].apply(sum) > 1]\n",
    "\n",
    "# Oversample minority class\n",
    "minority_oversampled = resample(minority, \n",
    "                                replace=True, \n",
    "                                n_samples=len(majority), \n",
    "                                random_state=42)\n",
    "\n",
    "# Combine oversampled data\n",
    "balanced_train_df = pd.concat([majority, minority_oversampled])\n",
    "\n",
    "print(f\"Balanced dataset size: {len(balanced_train_df)}\")"
   ]
  },
  {
   "cell_type": "code",
   "execution_count": 21,
   "id": "8759f6f1-3a1e-47bb-a51f-9fd961f4cd39",
   "metadata": {},
   "outputs": [
    {
     "name": "stderr",
     "output_type": "stream",
     "text": [
      "[nltk_data] Downloading package averaged_perceptron_tagger_eng to\n",
      "[nltk_data]     C:\\Users\\ahmet\\AppData\\Roaming\\nltk_data...\n",
      "[nltk_data]   Unzipping taggers\\averaged_perceptron_tagger_eng.zip.\n"
     ]
    }
   ],
   "source": [
    "# Text Augmentation\n",
    "from nlpaug.augmenter.word import SynonymAug\n",
    "import nltk\n",
    "nltk.download('averaged_perceptron_tagger_eng')\n",
    "\n",
    "# Initialize an augmenter\n",
    "augmenter = SynonymAug(aug_src='wordnet')\n",
    "\n",
    "# Apply augmentation\n",
    "train_df['augmented_text'] = train_df['text'].apply(lambda x: augmenter.augment(x))\n",
    "\n",
    "# Combine original and augmented text\n",
    "augmented_df = train_df.copy()\n",
    "augmented_df['text'] = augmented_df['augmented_text']\n",
    "train_df = pd.concat([train_df, augmented_df], ignore_index=True)"
   ]
  },
  {
   "cell_type": "code",
   "execution_count": 23,
   "id": "cf655c30-f56c-47a2-84ee-c47bf409e4db",
   "metadata": {},
   "outputs": [
    {
     "name": "stderr",
     "output_type": "stream",
     "text": [
      "Some weights of DistilBertForMultiLabelSequenceClassification were not initialized from the model checkpoint at distilbert-base-uncased and are newly initialized: ['classifier.bias', 'classifier.weight', 'pre_classifier.bias', 'pre_classifier.weight']\n",
      "You should probably TRAIN this model on a down-stream task to be able to use it for predictions and inference.\n"
     ]
    },
    {
     "data": {
      "application/vnd.jupyter.widget-view+json": {
       "model_id": "bbde43d1b85545e3ae9019ac87343236",
       "version_major": 2,
       "version_minor": 0
      },
      "text/plain": [
       "  0%|          | 0/4 [00:00<?, ?it/s]"
      ]
     },
     "metadata": {},
     "output_type": "display_data"
    },
    {
     "data": {
      "application/vnd.jupyter.widget-view+json": {
       "model_id": "75613bfa31f04d21b9fe988b9ea80845",
       "version_major": 2,
       "version_minor": 0
      },
      "text/plain": [
       "Epoch:   0%|          | 0/10 [00:00<?, ?it/s]"
      ]
     },
     "metadata": {},
     "output_type": "display_data"
    },
    {
     "name": "stderr",
     "output_type": "stream",
     "text": [
      "C:\\Python311\\Lib\\site-packages\\simpletransformers\\classification\\classification_model.py:882: FutureWarning: `torch.cuda.amp.GradScaler(args...)` is deprecated. Please use `torch.amp.GradScaler('cuda', args...)` instead.\n",
      "  scaler = amp.GradScaler()\n"
     ]
    },
    {
     "data": {
      "application/vnd.jupyter.widget-view+json": {
       "model_id": "22765efc762b4cc18ecaab0c258f745b",
       "version_major": 2,
       "version_minor": 0
      },
      "text/plain": [
       "Running Epoch 1 of 10:   0%|          | 0/296 [00:00<?, ?it/s]"
      ]
     },
     "metadata": {},
     "output_type": "display_data"
    },
    {
     "name": "stderr",
     "output_type": "stream",
     "text": [
      "C:\\Python311\\Lib\\site-packages\\simpletransformers\\classification\\classification_model.py:905: FutureWarning: `torch.cuda.amp.autocast(args...)` is deprecated. Please use `torch.amp.autocast('cuda', args...)` instead.\n",
      "  with amp.autocast():\n"
     ]
    },
    {
     "data": {
      "application/vnd.jupyter.widget-view+json": {
       "model_id": "5f48f62240674065a474f51ea881dcad",
       "version_major": 2,
       "version_minor": 0
      },
      "text/plain": [
       "Running Epoch 2 of 10:   0%|          | 0/296 [00:00<?, ?it/s]"
      ]
     },
     "metadata": {},
     "output_type": "display_data"
    },
    {
     "data": {
      "application/vnd.jupyter.widget-view+json": {
       "model_id": "e39e9ae6152a42248ddd5df1e45c4bc2",
       "version_major": 2,
       "version_minor": 0
      },
      "text/plain": [
       "Running Epoch 3 of 10:   0%|          | 0/296 [00:00<?, ?it/s]"
      ]
     },
     "metadata": {},
     "output_type": "display_data"
    },
    {
     "data": {
      "application/vnd.jupyter.widget-view+json": {
       "model_id": "4b63e502c0ab49f7bec6808bbb2f937b",
       "version_major": 2,
       "version_minor": 0
      },
      "text/plain": [
       "Running Epoch 4 of 10:   0%|          | 0/296 [00:00<?, ?it/s]"
      ]
     },
     "metadata": {},
     "output_type": "display_data"
    },
    {
     "data": {
      "application/vnd.jupyter.widget-view+json": {
       "model_id": "75a4b4dd08164efdb40ced90e9eb93e1",
       "version_major": 2,
       "version_minor": 0
      },
      "text/plain": [
       "Running Epoch 5 of 10:   0%|          | 0/296 [00:00<?, ?it/s]"
      ]
     },
     "metadata": {},
     "output_type": "display_data"
    },
    {
     "data": {
      "application/vnd.jupyter.widget-view+json": {
       "model_id": "4d6a16ffbf974adabb8cab2253cfef78",
       "version_major": 2,
       "version_minor": 0
      },
      "text/plain": [
       "Running Epoch 6 of 10:   0%|          | 0/296 [00:00<?, ?it/s]"
      ]
     },
     "metadata": {},
     "output_type": "display_data"
    },
    {
     "data": {
      "application/vnd.jupyter.widget-view+json": {
       "model_id": "2222a059671a4b2dab4bd0853f53f77a",
       "version_major": 2,
       "version_minor": 0
      },
      "text/plain": [
       "Running Epoch 7 of 10:   0%|          | 0/296 [00:00<?, ?it/s]"
      ]
     },
     "metadata": {},
     "output_type": "display_data"
    },
    {
     "data": {
      "application/vnd.jupyter.widget-view+json": {
       "model_id": "d34896959b8d484f852ac934e117e7e8",
       "version_major": 2,
       "version_minor": 0
      },
      "text/plain": [
       "Running Epoch 8 of 10:   0%|          | 0/296 [00:00<?, ?it/s]"
      ]
     },
     "metadata": {},
     "output_type": "display_data"
    },
    {
     "data": {
      "application/vnd.jupyter.widget-view+json": {
       "model_id": "83efb60f0f76407cafd83828cefcf167",
       "version_major": 2,
       "version_minor": 0
      },
      "text/plain": [
       "Running Epoch 9 of 10:   0%|          | 0/296 [00:00<?, ?it/s]"
      ]
     },
     "metadata": {},
     "output_type": "display_data"
    },
    {
     "data": {
      "application/vnd.jupyter.widget-view+json": {
       "model_id": "cb51b15363f147e8862d587808640f64",
       "version_major": 2,
       "version_minor": 0
      },
      "text/plain": [
       "Running Epoch 10 of 10:   0%|          | 0/296 [00:00<?, ?it/s]"
      ]
     },
     "metadata": {},
     "output_type": "display_data"
    },
    {
     "data": {
      "text/plain": [
       "(2960, 0.15081786726038224)"
      ]
     },
     "execution_count": 23,
     "metadata": {},
     "output_type": "execute_result"
    }
   ],
   "source": [
    "# Model training\n",
    "from simpletransformers.classification import MultiLabelClassificationModel\n",
    "from sklearn.utils.class_weight import compute_class_weight\n",
    "import numpy as np\n",
    "import torch\n",
    "\n",
    "# Compute weights\n",
    "class_weights = compute_class_weight('balanced', classes=np.unique(train_df['labels'].apply(sum)), y=train_df['labels'].apply(sum))\n",
    "class_weights = torch.tensor(class_weights, dtype=torch.float)\n",
    "\n",
    "model = MultiLabelClassificationModel(\n",
    "    \"distilbert\",           # Pre-trained model type\n",
    "    \"distilbert-base-uncased\",  # Pre-trained model name\n",
    "    num_labels=4,           # Number of target labels\n",
    "    args={\n",
    "        \"learning_rate\": 2e-5,\n",
    "        \"num_train_epochs\": 10,\n",
    "        \"max_seq_length\": 512,\n",
    "        \"train_batch_size\": 8,\n",
    "        \"eval_batch_size\": 8,\n",
    "        \"reprocess_input_data\": True,\n",
    "        \"overwrite_output_dir\": True,\n",
    "        \"class_weights\": class_weights.tolist() # Penalize the model for misclassification\n",
    "    },\n",
    "    use_cuda=True         \n",
    ")\n",
    "\n",
    "# Train the model\n",
    "model.train_model(train_df)"
   ]
  },
  {
   "cell_type": "code",
   "execution_count": 27,
   "id": "5dbb1a5f-9a4d-4b7a-b545-8ad4998107e1",
   "metadata": {},
   "outputs": [
    {
     "data": {
      "application/vnd.jupyter.widget-view+json": {
       "model_id": "4171601f137c4683989ea2e77d8d37ab",
       "version_major": 2,
       "version_minor": 0
      },
      "text/plain": [
       "0it [00:00, ?it/s]"
      ]
     },
     "metadata": {},
     "output_type": "display_data"
    },
    {
     "data": {
      "application/vnd.jupyter.widget-view+json": {
       "model_id": "cb98643ae07d4f238fdc5bae29fc5698",
       "version_major": 2,
       "version_minor": 0
      },
      "text/plain": [
       "Running Evaluation:   0%|          | 0/27 [00:00<?, ?it/s]"
      ]
     },
     "metadata": {},
     "output_type": "display_data"
    },
    {
     "name": "stderr",
     "output_type": "stream",
     "text": [
      "C:\\Python311\\Lib\\site-packages\\simpletransformers\\classification\\classification_model.py:1505: FutureWarning: `torch.cuda.amp.autocast(args...)` is deprecated. Please use `torch.amp.autocast('cuda', args...)` instead.\n",
      "  with amp.autocast():\n"
     ]
    },
    {
     "name": "stdout",
     "output_type": "stream",
     "text": [
      "Best Threshold: 0.1, Best F1-Score: 0.6210465791034263\n"
     ]
    }
   ],
   "source": [
    "# Threshold tuning\n",
    "import numpy as np\n",
    "from sklearn.metrics import f1_score\n",
    "\n",
    "# Evaluate the model to get predictions\n",
    "result, model_outputs, wrong_predictions = model.eval_model(test_df)\n",
    "\n",
    "# Extract true labels\n",
    "y_true = np.array(test_df['labels'].tolist())\n",
    "\n",
    "# Threshold tuning\n",
    "best_threshold = 0.5\n",
    "best_f1 = 0\n",
    "\n",
    "# Iterate through thresholds to find the best F1-score\n",
    "for threshold in np.arange(0.1, 1.0, 0.1):\n",
    "    y_pred = (np.array(model_outputs) >= threshold).astype(int)\n",
    "    f1 = f1_score(y_true, y_pred, average=\"weighted\", zero_division=0)\n",
    "    if f1 > best_f1:\n",
    "        best_f1 = f1\n",
    "        best_threshold = threshold\n",
    "\n",
    "print(f\"Best Threshold: {best_threshold}, Best F1-Score: {best_f1}\")"
   ]
  },
  {
   "cell_type": "code",
   "execution_count": 29,
   "id": "3cbeb4b6-68ea-442e-8fa1-e489944c3935",
   "metadata": {},
   "outputs": [
    {
     "data": {
      "application/vnd.jupyter.widget-view+json": {
       "model_id": "eed66f1e206d47bc9da57bb1f1a81a72",
       "version_major": 2,
       "version_minor": 0
      },
      "text/plain": [
       "0it [00:00, ?it/s]"
      ]
     },
     "metadata": {},
     "output_type": "display_data"
    },
    {
     "data": {
      "application/vnd.jupyter.widget-view+json": {
       "model_id": "75e5111d7b504b2a9af0f56c6b36ec8f",
       "version_major": 2,
       "version_minor": 0
      },
      "text/plain": [
       "Running Evaluation:   0%|          | 0/27 [00:00<?, ?it/s]"
      ]
     },
     "metadata": {},
     "output_type": "display_data"
    },
    {
     "name": "stderr",
     "output_type": "stream",
     "text": [
      "C:\\Python311\\Lib\\site-packages\\simpletransformers\\classification\\classification_model.py:1505: FutureWarning: `torch.cuda.amp.autocast(args...)` is deprecated. Please use `torch.amp.autocast('cuda', args...)` instead.\n",
      "  with amp.autocast():\n"
     ]
    },
    {
     "name": "stdout",
     "output_type": "stream",
     "text": [
      "Metrics:\n",
      "F1-Score: 0.6210\n",
      "Precision: 0.6282\n",
      "Recall: 0.6198\n",
      "Hamming Loss: 0.1770\n"
     ]
    }
   ],
   "source": [
    "from sklearn.metrics import f1_score, precision_score, recall_score, hamming_loss\n",
    "import numpy as np\n",
    "\n",
    "def metrics(y_true, y_pred_logits):\n",
    "    # Threshold the logits to get binary predictions\n",
    "    threshold = 0.1\n",
    "    y_pred = (y_pred_logits >= threshold).astype(int)\n",
    "\n",
    "    # Calculate metrics\n",
    "    f1 = f1_score(y_true, y_pred, average=\"weighted\", zero_division=0)\n",
    "    precision = precision_score(y_true, y_pred, average=\"weighted\", zero_division=0)\n",
    "    recall = recall_score(y_true, y_pred, average=\"weighted\", zero_division=0)\n",
    "    hamming = hamming_loss(y_true, y_pred)\n",
    "\n",
    "    metrics_dict = {\n",
    "        \"F1-Score\": f1,\n",
    "        \"Precision\": precision,\n",
    "        \"Recall\": recall,\n",
    "        \"Hamming Loss\": hamming\n",
    "    }\n",
    "\n",
    "    # Print the metrics\n",
    "    print(\"Metrics:\")\n",
    "    for metric, value in metrics_dict.items():\n",
    "        print(f\"{metric}: {value:.4f}\")\n",
    "\n",
    "    return metrics_dict\n",
    "\n",
    "result, model_outputs, wrong_predictions = model.eval_model(\n",
    "    test_df,\n",
    "    eval_fn=metrics  \n",
    ")"
   ]
  },
  {
   "cell_type": "code",
   "execution_count": 31,
   "id": "e1e0b924-37ac-454e-881d-878fd37a757b",
   "metadata": {},
   "outputs": [],
   "source": [
    "threshold = 0.1\n",
    "\n",
    "# Convert model outputs to binary predictions\n",
    "y_pred = (np.array(model_outputs) >= threshold).astype(int)\n",
    "y_true = np.array(test_df['labels'].tolist())"
   ]
  },
  {
   "cell_type": "code",
   "execution_count": 33,
   "id": "10d9bcbb-61b1-4b00-b901-15433f3e4130",
   "metadata": {},
   "outputs": [
    {
     "data": {
      "image/png": "[encoded data removed]",
      "text/plain": [
       "<Figure size 640x480 with 2 Axes>"
      ]
     },
     "metadata": {},
     "output_type": "display_data"
    },
    {
     "data": {
      "image/png": "[encoded data removed]",
      "text/plain": [
       "<Figure size 640x480 with 2 Axes>"
      ]
     },
     "metadata": {},
     "output_type": "display_data"
    },
    {
     "data": {
      "image/png": "[encoded data removed]",
      "text/plain": [
       "<Figure size 640x480 with 2 Axes>"
      ]
     },
     "metadata": {},
     "output_type": "display_data"
    },
    {
     "data": {
      "image/png": "[encoded data removed]",
      "text/plain": [
       "<Figure size 640x480 with 2 Axes>"
      ]
     },
     "metadata": {},
     "output_type": "display_data"
    }
   ],
   "source": [
    "import matplotlib.pyplot as plt\n",
    "from sklearn.metrics import confusion_matrix, ConfusionMatrixDisplay\n",
    "# Confusion Matrix\n",
    "for i, label in enumerate(label_columns):\n",
    "    cm = confusion_matrix(y_true[:, i], y_pred[:, i])\n",
    "    disp = ConfusionMatrixDisplay(confusion_matrix=cm, display_labels=[\"No\", \"Yes\"])\n",
    "    disp.plot(cmap='Blues')\n",
    "    plt.title(f\"Confusion Matrix for {label}\")\n",
    "    plt.show()"
   ]
  },
  {
   "cell_type": "code",
   "execution_count": 35,
   "id": "7d9ed641-a479-4651-be6f-1a721b31848f",
   "metadata": {},
   "outputs": [
    {
     "data": {
      "image/png": "[encoded data removed]",
      "text/plain": [
       "<Figure size 800x600 with 1 Axes>"
      ]
     },
     "metadata": {},
     "output_type": "display_data"
    }
   ],
   "source": [
    "import matplotlib.pyplot as plt\n",
    "from sklearn.metrics import precision_recall_curve\n",
    "\n",
    "y_true_flat = y_true.ravel()\n",
    "model_outputs_flat = np.array(model_outputs).ravel()\n",
    "\n",
    "# Calculate precision and recall at different thresholds\n",
    "precision, recall, thresholds = precision_recall_curve(y_true_flat, model_outputs_flat)\n",
    "\n",
    "# Plot Precision vs Recall\n",
    "plt.figure(figsize=(8, 6))\n",
    "plt.plot(thresholds, precision[:-1], label='Precision')\n",
    "plt.plot(thresholds, recall[:-1], label='Recall')\n",
    "plt.xlabel('Threshold')\n",
    "plt.ylabel('Score')\n",
    "plt.title('Precision-Recall Trade-off')\n",
    "plt.legend()\n",
    "plt.grid()\n",
    "plt.show()\n"
   ]
  },
  {
   "cell_type": "code",
   "execution_count": null,
   "id": "cda36552-4e93-4465-a4d6-cff0a314523c",
   "metadata": {},
   "outputs": [],
   "source": []
  }
 ],
 "metadata": {
  "kernelspec": {
   "display_name": "Python 3.11 (Local)",
   "language": "python",
   "name": "python311"
  },
  "language_info": {
   "codemirror_mode": {
    "name": "ipython",
    "version": 3
   },
   "file_extension": ".py",
   "mimetype": "text/x-python",
   "name": "python",
   "nbconvert_exporter": "python",
   "pygments_lexer": "ipython3",
   "version": "3.11.5"
  }
 },
 "nbformat": 4,
 "nbformat_minor": 5
}
